{
 "cells": [
  {
   "cell_type": "code",
   "execution_count": 1,
   "metadata": {
    "collapsed": true
   },
   "outputs": [],
   "source": [
    "%matplotlib inline\n",
    "import matplotlib.pyplot as plt\n",
    "import pandas as pd\n",
    "import numpy as np\n",
    "plt.style.use('seaborn')"
   ]
  },
  {
   "cell_type": "code",
   "execution_count": 2,
   "metadata": {
    "collapsed": true
   },
   "outputs": [],
   "source": [
    "## Cargamos archivos especificando columna string como suscriptor, \n",
    "## ya que aparte de numeros hay ruts, por lo que pandas no puede asumir el tipo"
   ]
  },
  {
   "cell_type": "code",
   "execution_count": 3,
   "metadata": {
    "collapsed": true
   },
   "outputs": [],
   "source": [
    "feb = pd.read_csv('febrero2017.csv', sep=';', dtype={'Suscriptor': str})\n",
    "mar = pd.read_csv('marzo2017.csv', sep=';', dtype={'Suscriptor': str})\n",
    "abr = pd.read_csv('abril2017.csv', sep=';', dtype={'Suscriptor': str})\n",
    "may = pd.read_csv('mayo2017.csv', sep=';', dtype={'Suscriptor': str , 'Cod Tbk' : str , 'Cod OneClick' : str})\n",
    "jun = pd.read_csv('junio2017.csv', sep=';', dtype={'Suscriptor': str})\n",
    "jul = pd.read_csv('julio2017.csv', sep=';', dtype={'Suscriptor': str, 'Cod Tbk' : str , 'Cod OneClick' : str})\n"
   ]
  },
  {
   "cell_type": "code",
   "execution_count": 4,
   "metadata": {
    "collapsed": true
   },
   "outputs": [],
   "source": [
    "## Revisaremos el total de filas y columnas de cada archivo \n",
    "##para asegurarnos que al unirlos no se pierda ningun dato"
   ]
  },
  {
   "cell_type": "code",
   "execution_count": 5,
   "metadata": {},
   "outputs": [
    {
     "name": "stdout",
     "output_type": "stream",
     "text": [
      "(222795, 13)\n",
      "(304246, 13)\n",
      "(304971, 13)\n",
      "(330099, 13)\n",
      "(332877, 13)\n",
      "(354646, 13)\n"
     ]
    }
   ],
   "source": [
    "print(feb.shape)\n",
    "print(mar.shape)\n",
    "print(abr.shape)\n",
    "print(may.shape)\n",
    "print(jun.shape)\n",
    "print(jul.shape)"
   ]
  },
  {
   "cell_type": "code",
   "execution_count": 6,
   "metadata": {},
   "outputs": [
    {
     "data": {
      "text/plain": [
       "1849634"
      ]
     },
     "execution_count": 6,
     "metadata": {},
     "output_type": "execute_result"
    }
   ],
   "source": [
    "222795 + 304246 + 304971 + 330099 + 332877 + 354646"
   ]
  },
  {
   "cell_type": "code",
   "execution_count": 7,
   "metadata": {},
   "outputs": [
    {
     "data": {
      "text/plain": [
       "(1849634, 15)"
      ]
     },
     "execution_count": 7,
     "metadata": {},
     "output_type": "execute_result"
    }
   ],
   "source": [
    "trx = feb.append([mar, abr, may, jun, jul])\n",
    "trx.shape"
   ]
  },
  {
   "cell_type": "code",
   "execution_count": 8,
   "metadata": {
    "collapsed": true
   },
   "outputs": [],
   "source": [
    "## Vemos que todos los dataframes tienen 13 columnas \n",
    "##y que la suma de la union es igual a la suma individual de filas, perfecto :)"
   ]
  },
  {
   "cell_type": "code",
   "execution_count": 9,
   "metadata": {
    "collapsed": true
   },
   "outputs": [],
   "source": [
    "## Ahora eliminaremos columnas que no son utiles para el análisis, \n",
    "## cambiaremos algunos nombres de columnas para mayor facilidad de trabajo\n",
    "## y formatearemos la fecha que está como str"
   ]
  },
  {
   "cell_type": "code",
   "execution_count": 10,
   "metadata": {},
   "outputs": [
    {
     "data": {
      "text/html": [
       "<div>\n",
       "<style>\n",
       "    .dataframe thead tr:only-child th {\n",
       "        text-align: right;\n",
       "    }\n",
       "\n",
       "    .dataframe thead th {\n",
       "        text-align: left;\n",
       "    }\n",
       "\n",
       "    .dataframe tbody tr th {\n",
       "        vertical-align: top;\n",
       "    }\n",
       "</style>\n",
       "<table border=\"1\" class=\"dataframe\">\n",
       "  <thead>\n",
       "    <tr style=\"text-align: right;\">\n",
       "      <th></th>\n",
       "      <th>Cod Autorizador</th>\n",
       "      <th>Cod Autorizador.1</th>\n",
       "      <th>Cod OneClick</th>\n",
       "      <th>Cod Tbk</th>\n",
       "      <th>E-mail</th>\n",
       "      <th>Estado</th>\n",
       "      <th>Fecha y Hora</th>\n",
       "      <th>Medio de Pago</th>\n",
       "      <th>Monto</th>\n",
       "      <th>Operador</th>\n",
       "      <th>Producto</th>\n",
       "      <th>Status</th>\n",
       "      <th>Suscriptor</th>\n",
       "      <th>mail</th>\n",
       "      <th>tipo</th>\n",
       "    </tr>\n",
       "  </thead>\n",
       "  <tbody>\n",
       "    <tr>\n",
       "      <th>0</th>\n",
       "      <td>0</td>\n",
       "      <td>0</td>\n",
       "      <td>NaN</td>\n",
       "      <td>NaN</td>\n",
       "      <td>NaN</td>\n",
       "      <td>MEDIOSELECCIONADO</td>\n",
       "      <td>2017-02-02 16:14:16.881586</td>\n",
       "      <td>WebPay</td>\n",
       "      <td>750.0</td>\n",
       "      <td>Entel</td>\n",
       "      <td>Movil</td>\n",
       "      <td>sin mail</td>\n",
       "      <td>972712582</td>\n",
       "      <td>NaN</td>\n",
       "      <td>NaN</td>\n",
       "    </tr>\n",
       "    <tr>\n",
       "      <th>1</th>\n",
       "      <td>0</td>\n",
       "      <td>0</td>\n",
       "      <td>NaN</td>\n",
       "      <td>NaN</td>\n",
       "      <td>NaN</td>\n",
       "      <td>MEDIOSELECCIONADO</td>\n",
       "      <td>2017-02-02 16:50:49.877554</td>\n",
       "      <td>WebPay</td>\n",
       "      <td>750.0</td>\n",
       "      <td>Entel</td>\n",
       "      <td>Movil</td>\n",
       "      <td>sin mail</td>\n",
       "      <td>972712582</td>\n",
       "      <td>NaN</td>\n",
       "      <td>NaN</td>\n",
       "    </tr>\n",
       "    <tr>\n",
       "      <th>2</th>\n",
       "      <td>0</td>\n",
       "      <td>0</td>\n",
       "      <td>NaN</td>\n",
       "      <td>'20170202181914003</td>\n",
       "      <td>NaN</td>\n",
       "      <td>PAGOAPROBADO</td>\n",
       "      <td>2017-02-02 18:19:14.218119</td>\n",
       "      <td>WebPay</td>\n",
       "      <td>500.0</td>\n",
       "      <td>Entel</td>\n",
       "      <td>Movil</td>\n",
       "      <td>sin mail</td>\n",
       "      <td>972712582</td>\n",
       "      <td>NaN</td>\n",
       "      <td>NaN</td>\n",
       "    </tr>\n",
       "    <tr>\n",
       "      <th>3</th>\n",
       "      <td>0</td>\n",
       "      <td>0</td>\n",
       "      <td>NaN</td>\n",
       "      <td>'20170202184356004</td>\n",
       "      <td>NaN</td>\n",
       "      <td>PAGOAPROBADO</td>\n",
       "      <td>2017-02-02 18:43:56.693197</td>\n",
       "      <td>WebPay</td>\n",
       "      <td>500.0</td>\n",
       "      <td>Entel</td>\n",
       "      <td>Movil</td>\n",
       "      <td>sin mail</td>\n",
       "      <td>972712582</td>\n",
       "      <td>NaN</td>\n",
       "      <td>NaN</td>\n",
       "    </tr>\n",
       "    <tr>\n",
       "      <th>4</th>\n",
       "      <td>0</td>\n",
       "      <td>0</td>\n",
       "      <td>NaN</td>\n",
       "      <td>'20170202184710005</td>\n",
       "      <td>NaN</td>\n",
       "      <td>PAGOAPROBADO</td>\n",
       "      <td>2017-02-02 18:47:10.383714</td>\n",
       "      <td>WebPay</td>\n",
       "      <td>500.0</td>\n",
       "      <td>Entel</td>\n",
       "      <td>Movil</td>\n",
       "      <td>sin mail</td>\n",
       "      <td>942177735</td>\n",
       "      <td>NaN</td>\n",
       "      <td>NaN</td>\n",
       "    </tr>\n",
       "  </tbody>\n",
       "</table>\n",
       "</div>"
      ],
      "text/plain": [
       "  Cod Autorizador Cod Autorizador.1 Cod OneClick             Cod Tbk E-mail  \\\n",
       "0               0                 0          NaN                 NaN    NaN   \n",
       "1               0                 0          NaN                 NaN    NaN   \n",
       "2               0                 0          NaN  '20170202181914003    NaN   \n",
       "3               0                 0          NaN  '20170202184356004    NaN   \n",
       "4               0                 0          NaN  '20170202184710005    NaN   \n",
       "\n",
       "              Estado                Fecha y Hora Medio de Pago  Monto  \\\n",
       "0  MEDIOSELECCIONADO  2017-02-02 16:14:16.881586        WebPay  750.0   \n",
       "1  MEDIOSELECCIONADO  2017-02-02 16:50:49.877554        WebPay  750.0   \n",
       "2       PAGOAPROBADO  2017-02-02 18:19:14.218119        WebPay  500.0   \n",
       "3       PAGOAPROBADO  2017-02-02 18:43:56.693197        WebPay  500.0   \n",
       "4       PAGOAPROBADO  2017-02-02 18:47:10.383714        WebPay  500.0   \n",
       "\n",
       "  Operador Producto    Status Suscriptor mail tipo  \n",
       "0    Entel    Movil  sin mail  972712582  NaN  NaN  \n",
       "1    Entel    Movil  sin mail  972712582  NaN  NaN  \n",
       "2    Entel    Movil  sin mail  972712582  NaN  NaN  \n",
       "3    Entel    Movil  sin mail  972712582  NaN  NaN  \n",
       "4    Entel    Movil  sin mail  942177735  NaN  NaN  "
      ]
     },
     "execution_count": 10,
     "metadata": {},
     "output_type": "execute_result"
    }
   ],
   "source": [
    "trx.head()"
   ]
  },
  {
   "cell_type": "code",
   "execution_count": 11,
   "metadata": {
    "collapsed": true
   },
   "outputs": [],
   "source": [
    "del trx['Cod Autorizador']"
   ]
  },
  {
   "cell_type": "code",
   "execution_count": 12,
   "metadata": {
    "collapsed": true
   },
   "outputs": [],
   "source": [
    "del trx['Cod Autorizador.1']"
   ]
  },
  {
   "cell_type": "code",
   "execution_count": 13,
   "metadata": {
    "collapsed": true
   },
   "outputs": [],
   "source": [
    "del trx['Cod OneClick']"
   ]
  },
  {
   "cell_type": "code",
   "execution_count": 14,
   "metadata": {
    "collapsed": true
   },
   "outputs": [],
   "source": [
    "del trx['Cod Tbk']"
   ]
  },
  {
   "cell_type": "code",
   "execution_count": 15,
   "metadata": {
    "collapsed": true
   },
   "outputs": [],
   "source": [
    "del trx['mail']"
   ]
  },
  {
   "cell_type": "code",
   "execution_count": 16,
   "metadata": {
    "collapsed": true
   },
   "outputs": [],
   "source": [
    "del trx['tipo']"
   ]
  },
  {
   "cell_type": "code",
   "execution_count": 17,
   "metadata": {
    "collapsed": true
   },
   "outputs": [],
   "source": [
    "del trx['Status']"
   ]
  },
  {
   "cell_type": "code",
   "execution_count": 18,
   "metadata": {
    "collapsed": true
   },
   "outputs": [],
   "source": [
    "trx = trx.rename(columns={'Fecha y Hora':'Fecha','E-mail':'email', \n",
    "                          'Estado':'estado', 'Medio de Pago':'pago',\n",
    "                         'Monto':'monto', 'Operador':'operador' ,\n",
    "                         'Producto':'producto', 'Suscriptor':'suscriptor'})"
   ]
  },
  {
   "cell_type": "code",
   "execution_count": 19,
   "metadata": {
    "collapsed": true
   },
   "outputs": [],
   "source": [
    "fecha = trx['Fecha'].str[:10]\n",
    "fecha = pd.DataFrame(fecha)\n",
    "trx = trx.assign(fecha=fecha.values)\n",
    "del trx['Fecha']"
   ]
  },
  {
   "cell_type": "code",
   "execution_count": 20,
   "metadata": {},
   "outputs": [
    {
     "data": {
      "text/html": [
       "<div>\n",
       "<style>\n",
       "    .dataframe thead tr:only-child th {\n",
       "        text-align: right;\n",
       "    }\n",
       "\n",
       "    .dataframe thead th {\n",
       "        text-align: left;\n",
       "    }\n",
       "\n",
       "    .dataframe tbody tr th {\n",
       "        vertical-align: top;\n",
       "    }\n",
       "</style>\n",
       "<table border=\"1\" class=\"dataframe\">\n",
       "  <thead>\n",
       "    <tr style=\"text-align: right;\">\n",
       "      <th></th>\n",
       "      <th>email</th>\n",
       "      <th>estado</th>\n",
       "      <th>pago</th>\n",
       "      <th>monto</th>\n",
       "      <th>operador</th>\n",
       "      <th>producto</th>\n",
       "      <th>suscriptor</th>\n",
       "      <th>fecha</th>\n",
       "    </tr>\n",
       "  </thead>\n",
       "  <tbody>\n",
       "    <tr>\n",
       "      <th>0</th>\n",
       "      <td>NaN</td>\n",
       "      <td>MEDIOSELECCIONADO</td>\n",
       "      <td>WebPay</td>\n",
       "      <td>750.0</td>\n",
       "      <td>Entel</td>\n",
       "      <td>Movil</td>\n",
       "      <td>972712582</td>\n",
       "      <td>2017-02-02</td>\n",
       "    </tr>\n",
       "    <tr>\n",
       "      <th>1</th>\n",
       "      <td>NaN</td>\n",
       "      <td>MEDIOSELECCIONADO</td>\n",
       "      <td>WebPay</td>\n",
       "      <td>750.0</td>\n",
       "      <td>Entel</td>\n",
       "      <td>Movil</td>\n",
       "      <td>972712582</td>\n",
       "      <td>2017-02-02</td>\n",
       "    </tr>\n",
       "    <tr>\n",
       "      <th>2</th>\n",
       "      <td>NaN</td>\n",
       "      <td>PAGOAPROBADO</td>\n",
       "      <td>WebPay</td>\n",
       "      <td>500.0</td>\n",
       "      <td>Entel</td>\n",
       "      <td>Movil</td>\n",
       "      <td>972712582</td>\n",
       "      <td>2017-02-02</td>\n",
       "    </tr>\n",
       "    <tr>\n",
       "      <th>3</th>\n",
       "      <td>NaN</td>\n",
       "      <td>PAGOAPROBADO</td>\n",
       "      <td>WebPay</td>\n",
       "      <td>500.0</td>\n",
       "      <td>Entel</td>\n",
       "      <td>Movil</td>\n",
       "      <td>972712582</td>\n",
       "      <td>2017-02-02</td>\n",
       "    </tr>\n",
       "    <tr>\n",
       "      <th>4</th>\n",
       "      <td>NaN</td>\n",
       "      <td>PAGOAPROBADO</td>\n",
       "      <td>WebPay</td>\n",
       "      <td>500.0</td>\n",
       "      <td>Entel</td>\n",
       "      <td>Movil</td>\n",
       "      <td>942177735</td>\n",
       "      <td>2017-02-02</td>\n",
       "    </tr>\n",
       "  </tbody>\n",
       "</table>\n",
       "</div>"
      ],
      "text/plain": [
       "  email             estado    pago  monto operador producto suscriptor  \\\n",
       "0   NaN  MEDIOSELECCIONADO  WebPay  750.0    Entel    Movil  972712582   \n",
       "1   NaN  MEDIOSELECCIONADO  WebPay  750.0    Entel    Movil  972712582   \n",
       "2   NaN       PAGOAPROBADO  WebPay  500.0    Entel    Movil  972712582   \n",
       "3   NaN       PAGOAPROBADO  WebPay  500.0    Entel    Movil  972712582   \n",
       "4   NaN       PAGOAPROBADO  WebPay  500.0    Entel    Movil  942177735   \n",
       "\n",
       "        fecha  \n",
       "0  2017-02-02  \n",
       "1  2017-02-02  \n",
       "2  2017-02-02  \n",
       "3  2017-02-02  \n",
       "4  2017-02-02  "
      ]
     },
     "execution_count": 20,
     "metadata": {},
     "output_type": "execute_result"
    }
   ],
   "source": [
    "trx.head()"
   ]
  },
  {
   "cell_type": "code",
   "execution_count": 21,
   "metadata": {
    "collapsed": true
   },
   "outputs": [],
   "source": [
    "trx.fecha = pd.to_datetime(trx['fecha'], format='%Y-%m-%d')"
   ]
  },
  {
   "cell_type": "code",
   "execution_count": 22,
   "metadata": {
    "collapsed": true
   },
   "outputs": [],
   "source": [
    "## Ahora reemplazaremos los NaN de los emails y pasaremos los montos a INT en vez de float \n",
    "## ya que son montos enteros"
   ]
  },
  {
   "cell_type": "code",
   "execution_count": 23,
   "metadata": {
    "collapsed": true
   },
   "outputs": [],
   "source": [
    "trx.email = trx.email.fillna('')"
   ]
  },
  {
   "cell_type": "code",
   "execution_count": 24,
   "metadata": {},
   "outputs": [
    {
     "ename": "ValueError",
     "evalue": "Cannot convert non-finite values (NA or inf) to integer",
     "output_type": "error",
     "traceback": [
      "\u001b[0;31m---------------------------------------------------------------------------\u001b[0m",
      "\u001b[0;31mValueError\u001b[0m                                Traceback (most recent call last)",
      "\u001b[0;32m<ipython-input-24-2797acab6115>\u001b[0m in \u001b[0;36m<module>\u001b[0;34m()\u001b[0m\n\u001b[0;32m----> 1\u001b[0;31m \u001b[0mtrx\u001b[0m\u001b[0;34m.\u001b[0m\u001b[0mmonto\u001b[0m\u001b[0;34m.\u001b[0m\u001b[0mastype\u001b[0m\u001b[0;34m(\u001b[0m\u001b[0mint\u001b[0m\u001b[0;34m)\u001b[0m\u001b[0;34m\u001b[0m\u001b[0m\n\u001b[0m",
      "\u001b[0;32m/anaconda/lib/python3.6/site-packages/pandas/util/_decorators.py\u001b[0m in \u001b[0;36mwrapper\u001b[0;34m(*args, **kwargs)\u001b[0m\n\u001b[1;32m     89\u001b[0m                 \u001b[0;32melse\u001b[0m\u001b[0;34m:\u001b[0m\u001b[0;34m\u001b[0m\u001b[0m\n\u001b[1;32m     90\u001b[0m                     \u001b[0mkwargs\u001b[0m\u001b[0;34m[\u001b[0m\u001b[0mnew_arg_name\u001b[0m\u001b[0;34m]\u001b[0m \u001b[0;34m=\u001b[0m \u001b[0mnew_arg_value\u001b[0m\u001b[0;34m\u001b[0m\u001b[0m\n\u001b[0;32m---> 91\u001b[0;31m             \u001b[0;32mreturn\u001b[0m \u001b[0mfunc\u001b[0m\u001b[0;34m(\u001b[0m\u001b[0;34m*\u001b[0m\u001b[0margs\u001b[0m\u001b[0;34m,\u001b[0m \u001b[0;34m**\u001b[0m\u001b[0mkwargs\u001b[0m\u001b[0;34m)\u001b[0m\u001b[0;34m\u001b[0m\u001b[0m\n\u001b[0m\u001b[1;32m     92\u001b[0m         \u001b[0;32mreturn\u001b[0m \u001b[0mwrapper\u001b[0m\u001b[0;34m\u001b[0m\u001b[0m\n\u001b[1;32m     93\u001b[0m     \u001b[0;32mreturn\u001b[0m \u001b[0m_deprecate_kwarg\u001b[0m\u001b[0;34m\u001b[0m\u001b[0m\n",
      "\u001b[0;32m/anaconda/lib/python3.6/site-packages/pandas/core/generic.py\u001b[0m in \u001b[0;36mastype\u001b[0;34m(self, dtype, copy, errors, **kwargs)\u001b[0m\n\u001b[1;32m   3297\u001b[0m         \u001b[0;31m# else, only a single dtype is given\u001b[0m\u001b[0;34m\u001b[0m\u001b[0;34m\u001b[0m\u001b[0m\n\u001b[1;32m   3298\u001b[0m         new_data = self._data.astype(dtype=dtype, copy=copy, errors=errors,\n\u001b[0;32m-> 3299\u001b[0;31m                                      **kwargs)\n\u001b[0m\u001b[1;32m   3300\u001b[0m         \u001b[0;32mreturn\u001b[0m \u001b[0mself\u001b[0m\u001b[0;34m.\u001b[0m\u001b[0m_constructor\u001b[0m\u001b[0;34m(\u001b[0m\u001b[0mnew_data\u001b[0m\u001b[0;34m)\u001b[0m\u001b[0;34m.\u001b[0m\u001b[0m__finalize__\u001b[0m\u001b[0;34m(\u001b[0m\u001b[0mself\u001b[0m\u001b[0;34m)\u001b[0m\u001b[0;34m\u001b[0m\u001b[0m\n\u001b[1;32m   3301\u001b[0m \u001b[0;34m\u001b[0m\u001b[0m\n",
      "\u001b[0;32m/anaconda/lib/python3.6/site-packages/pandas/core/internals.py\u001b[0m in \u001b[0;36mastype\u001b[0;34m(self, dtype, **kwargs)\u001b[0m\n\u001b[1;32m   3222\u001b[0m \u001b[0;34m\u001b[0m\u001b[0m\n\u001b[1;32m   3223\u001b[0m     \u001b[0;32mdef\u001b[0m \u001b[0mastype\u001b[0m\u001b[0;34m(\u001b[0m\u001b[0mself\u001b[0m\u001b[0;34m,\u001b[0m \u001b[0mdtype\u001b[0m\u001b[0;34m,\u001b[0m \u001b[0;34m**\u001b[0m\u001b[0mkwargs\u001b[0m\u001b[0;34m)\u001b[0m\u001b[0;34m:\u001b[0m\u001b[0;34m\u001b[0m\u001b[0m\n\u001b[0;32m-> 3224\u001b[0;31m         \u001b[0;32mreturn\u001b[0m \u001b[0mself\u001b[0m\u001b[0;34m.\u001b[0m\u001b[0mapply\u001b[0m\u001b[0;34m(\u001b[0m\u001b[0;34m'astype'\u001b[0m\u001b[0;34m,\u001b[0m \u001b[0mdtype\u001b[0m\u001b[0;34m=\u001b[0m\u001b[0mdtype\u001b[0m\u001b[0;34m,\u001b[0m \u001b[0;34m**\u001b[0m\u001b[0mkwargs\u001b[0m\u001b[0;34m)\u001b[0m\u001b[0;34m\u001b[0m\u001b[0m\n\u001b[0m\u001b[1;32m   3225\u001b[0m \u001b[0;34m\u001b[0m\u001b[0m\n\u001b[1;32m   3226\u001b[0m     \u001b[0;32mdef\u001b[0m \u001b[0mconvert\u001b[0m\u001b[0;34m(\u001b[0m\u001b[0mself\u001b[0m\u001b[0;34m,\u001b[0m \u001b[0;34m**\u001b[0m\u001b[0mkwargs\u001b[0m\u001b[0;34m)\u001b[0m\u001b[0;34m:\u001b[0m\u001b[0;34m\u001b[0m\u001b[0m\n",
      "\u001b[0;32m/anaconda/lib/python3.6/site-packages/pandas/core/internals.py\u001b[0m in \u001b[0;36mapply\u001b[0;34m(self, f, axes, filter, do_integrity_check, consolidate, **kwargs)\u001b[0m\n\u001b[1;32m   3089\u001b[0m \u001b[0;34m\u001b[0m\u001b[0m\n\u001b[1;32m   3090\u001b[0m             \u001b[0mkwargs\u001b[0m\u001b[0;34m[\u001b[0m\u001b[0;34m'mgr'\u001b[0m\u001b[0;34m]\u001b[0m \u001b[0;34m=\u001b[0m \u001b[0mself\u001b[0m\u001b[0;34m\u001b[0m\u001b[0m\n\u001b[0;32m-> 3091\u001b[0;31m             \u001b[0mapplied\u001b[0m \u001b[0;34m=\u001b[0m \u001b[0mgetattr\u001b[0m\u001b[0;34m(\u001b[0m\u001b[0mb\u001b[0m\u001b[0;34m,\u001b[0m \u001b[0mf\u001b[0m\u001b[0;34m)\u001b[0m\u001b[0;34m(\u001b[0m\u001b[0;34m**\u001b[0m\u001b[0mkwargs\u001b[0m\u001b[0;34m)\u001b[0m\u001b[0;34m\u001b[0m\u001b[0m\n\u001b[0m\u001b[1;32m   3092\u001b[0m             \u001b[0mresult_blocks\u001b[0m \u001b[0;34m=\u001b[0m \u001b[0m_extend_blocks\u001b[0m\u001b[0;34m(\u001b[0m\u001b[0mapplied\u001b[0m\u001b[0;34m,\u001b[0m \u001b[0mresult_blocks\u001b[0m\u001b[0;34m)\u001b[0m\u001b[0;34m\u001b[0m\u001b[0m\n\u001b[1;32m   3093\u001b[0m \u001b[0;34m\u001b[0m\u001b[0m\n",
      "\u001b[0;32m/anaconda/lib/python3.6/site-packages/pandas/core/internals.py\u001b[0m in \u001b[0;36mastype\u001b[0;34m(self, dtype, copy, errors, values, **kwargs)\u001b[0m\n\u001b[1;32m    469\u001b[0m     \u001b[0;32mdef\u001b[0m \u001b[0mastype\u001b[0m\u001b[0;34m(\u001b[0m\u001b[0mself\u001b[0m\u001b[0;34m,\u001b[0m \u001b[0mdtype\u001b[0m\u001b[0;34m,\u001b[0m \u001b[0mcopy\u001b[0m\u001b[0;34m=\u001b[0m\u001b[0;32mFalse\u001b[0m\u001b[0;34m,\u001b[0m \u001b[0merrors\u001b[0m\u001b[0;34m=\u001b[0m\u001b[0;34m'raise'\u001b[0m\u001b[0;34m,\u001b[0m \u001b[0mvalues\u001b[0m\u001b[0;34m=\u001b[0m\u001b[0;32mNone\u001b[0m\u001b[0;34m,\u001b[0m \u001b[0;34m**\u001b[0m\u001b[0mkwargs\u001b[0m\u001b[0;34m)\u001b[0m\u001b[0;34m:\u001b[0m\u001b[0;34m\u001b[0m\u001b[0m\n\u001b[1;32m    470\u001b[0m         return self._astype(dtype, copy=copy, errors=errors, values=values,\n\u001b[0;32m--> 471\u001b[0;31m                             **kwargs)\n\u001b[0m\u001b[1;32m    472\u001b[0m \u001b[0;34m\u001b[0m\u001b[0m\n\u001b[1;32m    473\u001b[0m     def _astype(self, dtype, copy=False, errors='raise', values=None,\n",
      "\u001b[0;32m/anaconda/lib/python3.6/site-packages/pandas/core/internals.py\u001b[0m in \u001b[0;36m_astype\u001b[0;34m(self, dtype, copy, errors, values, klass, mgr, **kwargs)\u001b[0m\n\u001b[1;32m    519\u001b[0m \u001b[0;34m\u001b[0m\u001b[0m\n\u001b[1;32m    520\u001b[0m                 \u001b[0;31m# _astype_nansafe works fine with 1-d only\u001b[0m\u001b[0;34m\u001b[0m\u001b[0;34m\u001b[0m\u001b[0m\n\u001b[0;32m--> 521\u001b[0;31m                 \u001b[0mvalues\u001b[0m \u001b[0;34m=\u001b[0m \u001b[0mastype_nansafe\u001b[0m\u001b[0;34m(\u001b[0m\u001b[0mvalues\u001b[0m\u001b[0;34m.\u001b[0m\u001b[0mravel\u001b[0m\u001b[0;34m(\u001b[0m\u001b[0;34m)\u001b[0m\u001b[0;34m,\u001b[0m \u001b[0mdtype\u001b[0m\u001b[0;34m,\u001b[0m \u001b[0mcopy\u001b[0m\u001b[0;34m=\u001b[0m\u001b[0;32mTrue\u001b[0m\u001b[0;34m)\u001b[0m\u001b[0;34m\u001b[0m\u001b[0m\n\u001b[0m\u001b[1;32m    522\u001b[0m                 \u001b[0mvalues\u001b[0m \u001b[0;34m=\u001b[0m \u001b[0mvalues\u001b[0m\u001b[0;34m.\u001b[0m\u001b[0mreshape\u001b[0m\u001b[0;34m(\u001b[0m\u001b[0mself\u001b[0m\u001b[0;34m.\u001b[0m\u001b[0mshape\u001b[0m\u001b[0;34m)\u001b[0m\u001b[0;34m\u001b[0m\u001b[0m\n\u001b[1;32m    523\u001b[0m \u001b[0;34m\u001b[0m\u001b[0m\n",
      "\u001b[0;32m/anaconda/lib/python3.6/site-packages/pandas/core/dtypes/cast.py\u001b[0m in \u001b[0;36mastype_nansafe\u001b[0;34m(arr, dtype, copy)\u001b[0m\n\u001b[1;32m    618\u001b[0m \u001b[0;34m\u001b[0m\u001b[0m\n\u001b[1;32m    619\u001b[0m         \u001b[0;32mif\u001b[0m \u001b[0;32mnot\u001b[0m \u001b[0mnp\u001b[0m\u001b[0;34m.\u001b[0m\u001b[0misfinite\u001b[0m\u001b[0;34m(\u001b[0m\u001b[0marr\u001b[0m\u001b[0;34m)\u001b[0m\u001b[0;34m.\u001b[0m\u001b[0mall\u001b[0m\u001b[0;34m(\u001b[0m\u001b[0;34m)\u001b[0m\u001b[0;34m:\u001b[0m\u001b[0;34m\u001b[0m\u001b[0m\n\u001b[0;32m--> 620\u001b[0;31m             raise ValueError('Cannot convert non-finite values (NA or inf) to '\n\u001b[0m\u001b[1;32m    621\u001b[0m                              'integer')\n\u001b[1;32m    622\u001b[0m \u001b[0;34m\u001b[0m\u001b[0m\n",
      "\u001b[0;31mValueError\u001b[0m: Cannot convert non-finite values (NA or inf) to integer"
     ]
    }
   ],
   "source": [
    "trx.monto.astype(int)"
   ]
  },
  {
   "cell_type": "code",
   "execution_count": 25,
   "metadata": {
    "collapsed": true
   },
   "outputs": [],
   "source": [
    "## Al parecer hay algun monto NaN, lo que es imposible ya que la transacción\n",
    "## no se crea con montos < 1"
   ]
  },
  {
   "cell_type": "code",
   "execution_count": 26,
   "metadata": {
    "collapsed": true
   },
   "outputs": [],
   "source": [
    "raros = trx[trx.monto.isnull()]"
   ]
  },
  {
   "cell_type": "code",
   "execution_count": 27,
   "metadata": {},
   "outputs": [
    {
     "data": {
      "text/html": [
       "<div>\n",
       "<style>\n",
       "    .dataframe thead tr:only-child th {\n",
       "        text-align: right;\n",
       "    }\n",
       "\n",
       "    .dataframe thead th {\n",
       "        text-align: left;\n",
       "    }\n",
       "\n",
       "    .dataframe tbody tr th {\n",
       "        vertical-align: top;\n",
       "    }\n",
       "</style>\n",
       "<table border=\"1\" class=\"dataframe\">\n",
       "  <thead>\n",
       "    <tr style=\"text-align: right;\">\n",
       "      <th></th>\n",
       "      <th>email</th>\n",
       "      <th>estado</th>\n",
       "      <th>pago</th>\n",
       "      <th>monto</th>\n",
       "      <th>operador</th>\n",
       "      <th>producto</th>\n",
       "      <th>suscriptor</th>\n",
       "      <th>fecha</th>\n",
       "    </tr>\n",
       "  </thead>\n",
       "  <tbody>\n",
       "    <tr>\n",
       "      <th>332876</th>\n",
       "      <td></td>\n",
       "      <td>NaN</td>\n",
       "      <td>NaN</td>\n",
       "      <td>NaN</td>\n",
       "      <td>NaN</td>\n",
       "      <td>NaN</td>\n",
       "      <td>NaN</td>\n",
       "      <td>NaT</td>\n",
       "    </tr>\n",
       "  </tbody>\n",
       "</table>\n",
       "</div>"
      ],
      "text/plain": [
       "       email estado pago  monto operador producto suscriptor fecha\n",
       "332876          NaN  NaN    NaN      NaN      NaN        NaN   NaT"
      ]
     },
     "execution_count": 27,
     "metadata": {},
     "output_type": "execute_result"
    }
   ],
   "source": [
    "raros"
   ]
  },
  {
   "cell_type": "code",
   "execution_count": 28,
   "metadata": {
    "collapsed": true
   },
   "outputs": [],
   "source": [
    "## Encontramos 1 fila que no tiene ningun valor, por lo que la eliminaremos"
   ]
  },
  {
   "cell_type": "code",
   "execution_count": 29,
   "metadata": {
    "collapsed": true
   },
   "outputs": [],
   "source": [
    "trx.drop(332876, inplace=True)"
   ]
  },
  {
   "cell_type": "code",
   "execution_count": 30,
   "metadata": {},
   "outputs": [
    {
     "data": {
      "text/plain": [
       "0           750\n",
       "1           750\n",
       "2           500\n",
       "3           500\n",
       "4           500\n",
       "5           500\n",
       "6           100\n",
       "7           100\n",
       "8           500\n",
       "9           750\n",
       "10          500\n",
       "11          100\n",
       "12          100\n",
       "13          100\n",
       "14        10000\n",
       "15         5000\n",
       "16         2000\n",
       "17         1000\n",
       "18         1000\n",
       "19         3000\n",
       "20         5000\n",
       "21         2000\n",
       "22         4000\n",
       "23         1000\n",
       "24         1000\n",
       "25        10000\n",
       "26         3000\n",
       "27         3000\n",
       "28         4000\n",
       "29         5000\n",
       "          ...  \n",
       "354616     4000\n",
       "354617     5000\n",
       "354618     1000\n",
       "354619     1000\n",
       "354620     1000\n",
       "354621     2500\n",
       "354622     2000\n",
       "354623     1000\n",
       "354624     1000\n",
       "354625     1000\n",
       "354626     1000\n",
       "354627     1000\n",
       "354628     1000\n",
       "354629     1000\n",
       "354630     1000\n",
       "354631     1000\n",
       "354632     1000\n",
       "354633    16000\n",
       "354634     3000\n",
       "354635     1000\n",
       "354636     1000\n",
       "354637     1000\n",
       "354638     1000\n",
       "354639     1000\n",
       "354640     1000\n",
       "354641     1000\n",
       "354642    10000\n",
       "354643     3175\n",
       "354644     3000\n",
       "354645     1000\n",
       "Name: monto, Length: 1849632, dtype: int64"
      ]
     },
     "execution_count": 30,
     "metadata": {},
     "output_type": "execute_result"
    }
   ],
   "source": [
    "trx.monto.astype(int)"
   ]
  },
  {
   "cell_type": "code",
   "execution_count": 31,
   "metadata": {
    "collapsed": true
   },
   "outputs": [],
   "source": [
    "## Por último , setearemos el index para que sea la fecha"
   ]
  },
  {
   "cell_type": "code",
   "execution_count": 32,
   "metadata": {
    "collapsed": true
   },
   "outputs": [],
   "source": [
    "trx = trx.set_index('fecha')"
   ]
  },
  {
   "cell_type": "code",
   "execution_count": 33,
   "metadata": {
    "collapsed": true
   },
   "outputs": [],
   "source": [
    "## Crearemos un dataframe aparte con solo las transacciones finalizadas "
   ]
  },
  {
   "cell_type": "code",
   "execution_count": 34,
   "metadata": {
    "collapsed": true
   },
   "outputs": [],
   "source": [
    "ventas = trx[trx.estado == 'FINALIZADO']"
   ]
  },
  {
   "cell_type": "code",
   "execution_count": 35,
   "metadata": {
    "collapsed": true
   },
   "outputs": [],
   "source": [
    "## Ahora si tenemos los datos listos para empezar a trabajar"
   ]
  },
  {
   "cell_type": "markdown",
   "metadata": {},
   "source": [
    "   Análisis exploratorio de los datos"
   ]
  },
  {
   "cell_type": "code",
   "execution_count": 36,
   "metadata": {
    "scrolled": true
   },
   "outputs": [
    {
     "data": {
      "text/plain": [
       "<matplotlib.axes._subplots.AxesSubplot at 0x14d6758d0>"
      ]
     },
     "execution_count": 36,
     "metadata": {},
     "output_type": "execute_result"
    },
    {
     "data": {
      "image/png": "[encoded data removed]",
      "text/plain": [
       "<matplotlib.figure.Figure at 0x10d43a630>"
      ]
     },
     "metadata": {},
     "output_type": "display_data"
    }
   ],
   "source": [
    "ventas.monto.groupby([ventas.index.date]).count().plot(kind=\"line\")"
   ]
  },
  {
   "cell_type": "code",
   "execution_count": 37,
   "metadata": {
    "collapsed": true
   },
   "outputs": [],
   "source": [
    "### Al parecer hay un dia con muy pocos datos, probablemente es el día de pruebas \n",
    "### antes de pasar a producción"
   ]
  },
  {
   "cell_type": "code",
   "execution_count": 38,
   "metadata": {},
   "outputs": [
    {
     "data": {
      "text/html": [
       "<div>\n",
       "<style>\n",
       "    .dataframe thead tr:only-child th {\n",
       "        text-align: right;\n",
       "    }\n",
       "\n",
       "    .dataframe thead th {\n",
       "        text-align: left;\n",
       "    }\n",
       "\n",
       "    .dataframe tbody tr th {\n",
       "        vertical-align: top;\n",
       "    }\n",
       "</style>\n",
       "<table border=\"1\" class=\"dataframe\">\n",
       "  <thead>\n",
       "    <tr style=\"text-align: right;\">\n",
       "      <th></th>\n",
       "      <th>email</th>\n",
       "      <th>estado</th>\n",
       "      <th>pago</th>\n",
       "      <th>monto</th>\n",
       "      <th>operador</th>\n",
       "      <th>producto</th>\n",
       "      <th>suscriptor</th>\n",
       "    </tr>\n",
       "  </thead>\n",
       "  <tbody>\n",
       "    <tr>\n",
       "      <th>2017-02-02</th>\n",
       "      <td>5</td>\n",
       "      <td>5</td>\n",
       "      <td>5</td>\n",
       "      <td>5</td>\n",
       "      <td>5</td>\n",
       "      <td>5</td>\n",
       "      <td>5</td>\n",
       "    </tr>\n",
       "    <tr>\n",
       "      <th>2017-02-03</th>\n",
       "      <td>5158</td>\n",
       "      <td>5158</td>\n",
       "      <td>5158</td>\n",
       "      <td>5158</td>\n",
       "      <td>5158</td>\n",
       "      <td>5158</td>\n",
       "      <td>5158</td>\n",
       "    </tr>\n",
       "    <tr>\n",
       "      <th>2017-02-04</th>\n",
       "      <td>4525</td>\n",
       "      <td>4525</td>\n",
       "      <td>4525</td>\n",
       "      <td>4525</td>\n",
       "      <td>4525</td>\n",
       "      <td>4525</td>\n",
       "      <td>4525</td>\n",
       "    </tr>\n",
       "    <tr>\n",
       "      <th>2017-02-05</th>\n",
       "      <td>3933</td>\n",
       "      <td>3933</td>\n",
       "      <td>3933</td>\n",
       "      <td>3933</td>\n",
       "      <td>3933</td>\n",
       "      <td>3933</td>\n",
       "      <td>3933</td>\n",
       "    </tr>\n",
       "    <tr>\n",
       "      <th>2017-02-06</th>\n",
       "      <td>5482</td>\n",
       "      <td>5482</td>\n",
       "      <td>5482</td>\n",
       "      <td>5482</td>\n",
       "      <td>5482</td>\n",
       "      <td>5482</td>\n",
       "      <td>5482</td>\n",
       "    </tr>\n",
       "    <tr>\n",
       "      <th>2017-02-07</th>\n",
       "      <td>5165</td>\n",
       "      <td>5165</td>\n",
       "      <td>5165</td>\n",
       "      <td>5165</td>\n",
       "      <td>5165</td>\n",
       "      <td>5165</td>\n",
       "      <td>5165</td>\n",
       "    </tr>\n",
       "    <tr>\n",
       "      <th>2017-02-08</th>\n",
       "      <td>5211</td>\n",
       "      <td>5211</td>\n",
       "      <td>5211</td>\n",
       "      <td>5211</td>\n",
       "      <td>5211</td>\n",
       "      <td>5211</td>\n",
       "      <td>5211</td>\n",
       "    </tr>\n",
       "    <tr>\n",
       "      <th>2017-02-09</th>\n",
       "      <td>5196</td>\n",
       "      <td>5196</td>\n",
       "      <td>5196</td>\n",
       "      <td>5196</td>\n",
       "      <td>5196</td>\n",
       "      <td>5196</td>\n",
       "      <td>5196</td>\n",
       "    </tr>\n",
       "    <tr>\n",
       "      <th>2017-02-10</th>\n",
       "      <td>5819</td>\n",
       "      <td>5819</td>\n",
       "      <td>5819</td>\n",
       "      <td>5819</td>\n",
       "      <td>5819</td>\n",
       "      <td>5819</td>\n",
       "      <td>5819</td>\n",
       "    </tr>\n",
       "    <tr>\n",
       "      <th>2017-02-11</th>\n",
       "      <td>4410</td>\n",
       "      <td>4410</td>\n",
       "      <td>4410</td>\n",
       "      <td>4410</td>\n",
       "      <td>4410</td>\n",
       "      <td>4410</td>\n",
       "      <td>4410</td>\n",
       "    </tr>\n",
       "    <tr>\n",
       "      <th>2017-02-12</th>\n",
       "      <td>3688</td>\n",
       "      <td>3688</td>\n",
       "      <td>3688</td>\n",
       "      <td>3688</td>\n",
       "      <td>3688</td>\n",
       "      <td>3688</td>\n",
       "      <td>3688</td>\n",
       "    </tr>\n",
       "    <tr>\n",
       "      <th>2017-02-13</th>\n",
       "      <td>5006</td>\n",
       "      <td>5006</td>\n",
       "      <td>5006</td>\n",
       "      <td>5006</td>\n",
       "      <td>5006</td>\n",
       "      <td>5006</td>\n",
       "      <td>5006</td>\n",
       "    </tr>\n",
       "    <tr>\n",
       "      <th>2017-02-14</th>\n",
       "      <td>4843</td>\n",
       "      <td>4843</td>\n",
       "      <td>4843</td>\n",
       "      <td>4843</td>\n",
       "      <td>4843</td>\n",
       "      <td>4843</td>\n",
       "      <td>4843</td>\n",
       "    </tr>\n",
       "    <tr>\n",
       "      <th>2017-02-15</th>\n",
       "      <td>5627</td>\n",
       "      <td>5627</td>\n",
       "      <td>5627</td>\n",
       "      <td>5627</td>\n",
       "      <td>5627</td>\n",
       "      <td>5627</td>\n",
       "      <td>5627</td>\n",
       "    </tr>\n",
       "    <tr>\n",
       "      <th>2017-02-16</th>\n",
       "      <td>5619</td>\n",
       "      <td>5619</td>\n",
       "      <td>5619</td>\n",
       "      <td>5619</td>\n",
       "      <td>5619</td>\n",
       "      <td>5619</td>\n",
       "      <td>5619</td>\n",
       "    </tr>\n",
       "    <tr>\n",
       "      <th>2017-02-17</th>\n",
       "      <td>5552</td>\n",
       "      <td>5552</td>\n",
       "      <td>5552</td>\n",
       "      <td>5552</td>\n",
       "      <td>5552</td>\n",
       "      <td>5552</td>\n",
       "      <td>5552</td>\n",
       "    </tr>\n",
       "    <tr>\n",
       "      <th>2017-02-18</th>\n",
       "      <td>4402</td>\n",
       "      <td>4402</td>\n",
       "      <td>4402</td>\n",
       "      <td>4402</td>\n",
       "      <td>4402</td>\n",
       "      <td>4402</td>\n",
       "      <td>4402</td>\n",
       "    </tr>\n",
       "    <tr>\n",
       "      <th>2017-02-19</th>\n",
       "      <td>3724</td>\n",
       "      <td>3724</td>\n",
       "      <td>3724</td>\n",
       "      <td>3724</td>\n",
       "      <td>3724</td>\n",
       "      <td>3724</td>\n",
       "      <td>3724</td>\n",
       "    </tr>\n",
       "    <tr>\n",
       "      <th>2017-02-20</th>\n",
       "      <td>5364</td>\n",
       "      <td>5364</td>\n",
       "      <td>5364</td>\n",
       "      <td>5364</td>\n",
       "      <td>5364</td>\n",
       "      <td>5364</td>\n",
       "      <td>5364</td>\n",
       "    </tr>\n",
       "    <tr>\n",
       "      <th>2017-02-21</th>\n",
       "      <td>5164</td>\n",
       "      <td>5164</td>\n",
       "      <td>5164</td>\n",
       "      <td>5164</td>\n",
       "      <td>5164</td>\n",
       "      <td>5164</td>\n",
       "      <td>5164</td>\n",
       "    </tr>\n",
       "    <tr>\n",
       "      <th>2017-02-22</th>\n",
       "      <td>5282</td>\n",
       "      <td>5282</td>\n",
       "      <td>5282</td>\n",
       "      <td>5282</td>\n",
       "      <td>5282</td>\n",
       "      <td>5282</td>\n",
       "      <td>5282</td>\n",
       "    </tr>\n",
       "    <tr>\n",
       "      <th>2017-02-23</th>\n",
       "      <td>4784</td>\n",
       "      <td>4784</td>\n",
       "      <td>4784</td>\n",
       "      <td>4784</td>\n",
       "      <td>4784</td>\n",
       "      <td>4784</td>\n",
       "      <td>4784</td>\n",
       "    </tr>\n",
       "    <tr>\n",
       "      <th>2017-02-24</th>\n",
       "      <td>5017</td>\n",
       "      <td>5017</td>\n",
       "      <td>5017</td>\n",
       "      <td>5017</td>\n",
       "      <td>5017</td>\n",
       "      <td>5017</td>\n",
       "      <td>5017</td>\n",
       "    </tr>\n",
       "    <tr>\n",
       "      <th>2017-02-25</th>\n",
       "      <td>3839</td>\n",
       "      <td>3839</td>\n",
       "      <td>3839</td>\n",
       "      <td>3839</td>\n",
       "      <td>3839</td>\n",
       "      <td>3839</td>\n",
       "      <td>3839</td>\n",
       "    </tr>\n",
       "    <tr>\n",
       "      <th>2017-02-26</th>\n",
       "      <td>3370</td>\n",
       "      <td>3370</td>\n",
       "      <td>3370</td>\n",
       "      <td>3370</td>\n",
       "      <td>3370</td>\n",
       "      <td>3370</td>\n",
       "      <td>3370</td>\n",
       "    </tr>\n",
       "    <tr>\n",
       "      <th>2017-02-27</th>\n",
       "      <td>4294</td>\n",
       "      <td>4294</td>\n",
       "      <td>4294</td>\n",
       "      <td>4294</td>\n",
       "      <td>4294</td>\n",
       "      <td>4294</td>\n",
       "      <td>4294</td>\n",
       "    </tr>\n",
       "    <tr>\n",
       "      <th>2017-02-28</th>\n",
       "      <td>8718</td>\n",
       "      <td>8718</td>\n",
       "      <td>8718</td>\n",
       "      <td>8718</td>\n",
       "      <td>8718</td>\n",
       "      <td>8718</td>\n",
       "      <td>8718</td>\n",
       "    </tr>\n",
       "    <tr>\n",
       "      <th>2017-03-01</th>\n",
       "      <td>5857</td>\n",
       "      <td>5857</td>\n",
       "      <td>5857</td>\n",
       "      <td>5857</td>\n",
       "      <td>5857</td>\n",
       "      <td>5857</td>\n",
       "      <td>5857</td>\n",
       "    </tr>\n",
       "    <tr>\n",
       "      <th>2017-03-02</th>\n",
       "      <td>6242</td>\n",
       "      <td>6242</td>\n",
       "      <td>6242</td>\n",
       "      <td>6242</td>\n",
       "      <td>6242</td>\n",
       "      <td>6242</td>\n",
       "      <td>6242</td>\n",
       "    </tr>\n",
       "    <tr>\n",
       "      <th>2017-03-03</th>\n",
       "      <td>5956</td>\n",
       "      <td>5956</td>\n",
       "      <td>5956</td>\n",
       "      <td>5956</td>\n",
       "      <td>5956</td>\n",
       "      <td>5956</td>\n",
       "      <td>5956</td>\n",
       "    </tr>\n",
       "    <tr>\n",
       "      <th>...</th>\n",
       "      <td>...</td>\n",
       "      <td>...</td>\n",
       "      <td>...</td>\n",
       "      <td>...</td>\n",
       "      <td>...</td>\n",
       "      <td>...</td>\n",
       "      <td>...</td>\n",
       "    </tr>\n",
       "    <tr>\n",
       "      <th>2017-07-02</th>\n",
       "      <td>5447</td>\n",
       "      <td>5447</td>\n",
       "      <td>5447</td>\n",
       "      <td>5447</td>\n",
       "      <td>5447</td>\n",
       "      <td>5447</td>\n",
       "      <td>5447</td>\n",
       "    </tr>\n",
       "    <tr>\n",
       "      <th>2017-07-03</th>\n",
       "      <td>8352</td>\n",
       "      <td>8352</td>\n",
       "      <td>8352</td>\n",
       "      <td>8352</td>\n",
       "      <td>8352</td>\n",
       "      <td>8352</td>\n",
       "      <td>8352</td>\n",
       "    </tr>\n",
       "    <tr>\n",
       "      <th>2017-07-04</th>\n",
       "      <td>7245</td>\n",
       "      <td>7245</td>\n",
       "      <td>7245</td>\n",
       "      <td>7245</td>\n",
       "      <td>7245</td>\n",
       "      <td>7245</td>\n",
       "      <td>7245</td>\n",
       "    </tr>\n",
       "    <tr>\n",
       "      <th>2017-07-05</th>\n",
       "      <td>6669</td>\n",
       "      <td>6669</td>\n",
       "      <td>6669</td>\n",
       "      <td>6669</td>\n",
       "      <td>6669</td>\n",
       "      <td>6669</td>\n",
       "      <td>6669</td>\n",
       "    </tr>\n",
       "    <tr>\n",
       "      <th>2017-07-06</th>\n",
       "      <td>7079</td>\n",
       "      <td>7079</td>\n",
       "      <td>7079</td>\n",
       "      <td>7079</td>\n",
       "      <td>7079</td>\n",
       "      <td>7079</td>\n",
       "      <td>7079</td>\n",
       "    </tr>\n",
       "    <tr>\n",
       "      <th>2017-07-07</th>\n",
       "      <td>7787</td>\n",
       "      <td>7787</td>\n",
       "      <td>7787</td>\n",
       "      <td>7787</td>\n",
       "      <td>7787</td>\n",
       "      <td>7787</td>\n",
       "      <td>7787</td>\n",
       "    </tr>\n",
       "    <tr>\n",
       "      <th>2017-07-08</th>\n",
       "      <td>6471</td>\n",
       "      <td>6471</td>\n",
       "      <td>6471</td>\n",
       "      <td>6471</td>\n",
       "      <td>6471</td>\n",
       "      <td>6471</td>\n",
       "      <td>6471</td>\n",
       "    </tr>\n",
       "    <tr>\n",
       "      <th>2017-07-09</th>\n",
       "      <td>5276</td>\n",
       "      <td>5276</td>\n",
       "      <td>5276</td>\n",
       "      <td>5276</td>\n",
       "      <td>5276</td>\n",
       "      <td>5276</td>\n",
       "      <td>5276</td>\n",
       "    </tr>\n",
       "    <tr>\n",
       "      <th>2017-07-10</th>\n",
       "      <td>7525</td>\n",
       "      <td>7525</td>\n",
       "      <td>7525</td>\n",
       "      <td>7525</td>\n",
       "      <td>7525</td>\n",
       "      <td>7525</td>\n",
       "      <td>7525</td>\n",
       "    </tr>\n",
       "    <tr>\n",
       "      <th>2017-07-11</th>\n",
       "      <td>6923</td>\n",
       "      <td>6923</td>\n",
       "      <td>6923</td>\n",
       "      <td>6923</td>\n",
       "      <td>6923</td>\n",
       "      <td>6923</td>\n",
       "      <td>6923</td>\n",
       "    </tr>\n",
       "    <tr>\n",
       "      <th>2017-07-12</th>\n",
       "      <td>6567</td>\n",
       "      <td>6567</td>\n",
       "      <td>6567</td>\n",
       "      <td>6567</td>\n",
       "      <td>6567</td>\n",
       "      <td>6567</td>\n",
       "      <td>6567</td>\n",
       "    </tr>\n",
       "    <tr>\n",
       "      <th>2017-07-13</th>\n",
       "      <td>6934</td>\n",
       "      <td>6934</td>\n",
       "      <td>6934</td>\n",
       "      <td>6934</td>\n",
       "      <td>6934</td>\n",
       "      <td>6934</td>\n",
       "      <td>6934</td>\n",
       "    </tr>\n",
       "    <tr>\n",
       "      <th>2017-07-14</th>\n",
       "      <td>8121</td>\n",
       "      <td>8121</td>\n",
       "      <td>8121</td>\n",
       "      <td>8121</td>\n",
       "      <td>8121</td>\n",
       "      <td>8121</td>\n",
       "      <td>8121</td>\n",
       "    </tr>\n",
       "    <tr>\n",
       "      <th>2017-07-15</th>\n",
       "      <td>6425</td>\n",
       "      <td>6425</td>\n",
       "      <td>6425</td>\n",
       "      <td>6425</td>\n",
       "      <td>6425</td>\n",
       "      <td>6425</td>\n",
       "      <td>6425</td>\n",
       "    </tr>\n",
       "    <tr>\n",
       "      <th>2017-07-16</th>\n",
       "      <td>5379</td>\n",
       "      <td>5379</td>\n",
       "      <td>5379</td>\n",
       "      <td>5379</td>\n",
       "      <td>5379</td>\n",
       "      <td>5379</td>\n",
       "      <td>5379</td>\n",
       "    </tr>\n",
       "    <tr>\n",
       "      <th>2017-07-17</th>\n",
       "      <td>7569</td>\n",
       "      <td>7569</td>\n",
       "      <td>7569</td>\n",
       "      <td>7569</td>\n",
       "      <td>7569</td>\n",
       "      <td>7569</td>\n",
       "      <td>7569</td>\n",
       "    </tr>\n",
       "    <tr>\n",
       "      <th>2017-07-18</th>\n",
       "      <td>5959</td>\n",
       "      <td>5959</td>\n",
       "      <td>5959</td>\n",
       "      <td>5959</td>\n",
       "      <td>5959</td>\n",
       "      <td>5959</td>\n",
       "      <td>5959</td>\n",
       "    </tr>\n",
       "    <tr>\n",
       "      <th>2017-07-19</th>\n",
       "      <td>7264</td>\n",
       "      <td>7264</td>\n",
       "      <td>7264</td>\n",
       "      <td>7264</td>\n",
       "      <td>7264</td>\n",
       "      <td>7264</td>\n",
       "      <td>7264</td>\n",
       "    </tr>\n",
       "    <tr>\n",
       "      <th>2017-07-20</th>\n",
       "      <td>6675</td>\n",
       "      <td>6675</td>\n",
       "      <td>6675</td>\n",
       "      <td>6675</td>\n",
       "      <td>6675</td>\n",
       "      <td>6675</td>\n",
       "      <td>6675</td>\n",
       "    </tr>\n",
       "    <tr>\n",
       "      <th>2017-07-21</th>\n",
       "      <td>7094</td>\n",
       "      <td>7094</td>\n",
       "      <td>7094</td>\n",
       "      <td>7094</td>\n",
       "      <td>7094</td>\n",
       "      <td>7094</td>\n",
       "      <td>7094</td>\n",
       "    </tr>\n",
       "    <tr>\n",
       "      <th>2017-07-22</th>\n",
       "      <td>5769</td>\n",
       "      <td>5769</td>\n",
       "      <td>5769</td>\n",
       "      <td>5769</td>\n",
       "      <td>5769</td>\n",
       "      <td>5769</td>\n",
       "      <td>5769</td>\n",
       "    </tr>\n",
       "    <tr>\n",
       "      <th>2017-07-23</th>\n",
       "      <td>4975</td>\n",
       "      <td>4975</td>\n",
       "      <td>4975</td>\n",
       "      <td>4975</td>\n",
       "      <td>4975</td>\n",
       "      <td>4975</td>\n",
       "      <td>4975</td>\n",
       "    </tr>\n",
       "    <tr>\n",
       "      <th>2017-07-24</th>\n",
       "      <td>7581</td>\n",
       "      <td>7581</td>\n",
       "      <td>7581</td>\n",
       "      <td>7581</td>\n",
       "      <td>7581</td>\n",
       "      <td>7581</td>\n",
       "      <td>7581</td>\n",
       "    </tr>\n",
       "    <tr>\n",
       "      <th>2017-07-25</th>\n",
       "      <td>6752</td>\n",
       "      <td>6752</td>\n",
       "      <td>6752</td>\n",
       "      <td>6752</td>\n",
       "      <td>6752</td>\n",
       "      <td>6752</td>\n",
       "      <td>6752</td>\n",
       "    </tr>\n",
       "    <tr>\n",
       "      <th>2017-07-26</th>\n",
       "      <td>6680</td>\n",
       "      <td>6680</td>\n",
       "      <td>6680</td>\n",
       "      <td>6680</td>\n",
       "      <td>6680</td>\n",
       "      <td>6680</td>\n",
       "      <td>6680</td>\n",
       "    </tr>\n",
       "    <tr>\n",
       "      <th>2017-07-27</th>\n",
       "      <td>6704</td>\n",
       "      <td>6704</td>\n",
       "      <td>6704</td>\n",
       "      <td>6704</td>\n",
       "      <td>6704</td>\n",
       "      <td>6704</td>\n",
       "      <td>6704</td>\n",
       "    </tr>\n",
       "    <tr>\n",
       "      <th>2017-07-28</th>\n",
       "      <td>8020</td>\n",
       "      <td>8020</td>\n",
       "      <td>8020</td>\n",
       "      <td>8020</td>\n",
       "      <td>8020</td>\n",
       "      <td>8020</td>\n",
       "      <td>8020</td>\n",
       "    </tr>\n",
       "    <tr>\n",
       "      <th>2017-07-29</th>\n",
       "      <td>6704</td>\n",
       "      <td>6704</td>\n",
       "      <td>6704</td>\n",
       "      <td>6704</td>\n",
       "      <td>6704</td>\n",
       "      <td>6704</td>\n",
       "      <td>6704</td>\n",
       "    </tr>\n",
       "    <tr>\n",
       "      <th>2017-07-30</th>\n",
       "      <td>5956</td>\n",
       "      <td>5956</td>\n",
       "      <td>5956</td>\n",
       "      <td>5956</td>\n",
       "      <td>5956</td>\n",
       "      <td>5956</td>\n",
       "      <td>5956</td>\n",
       "    </tr>\n",
       "    <tr>\n",
       "      <th>2017-07-31</th>\n",
       "      <td>9882</td>\n",
       "      <td>9882</td>\n",
       "      <td>9882</td>\n",
       "      <td>9882</td>\n",
       "      <td>9882</td>\n",
       "      <td>9882</td>\n",
       "      <td>9882</td>\n",
       "    </tr>\n",
       "  </tbody>\n",
       "</table>\n",
       "<p>180 rows × 7 columns</p>\n",
       "</div>"
      ],
      "text/plain": [
       "            email  estado  pago  monto  operador  producto  suscriptor\n",
       "2017-02-02      5       5     5      5         5         5           5\n",
       "2017-02-03   5158    5158  5158   5158      5158      5158        5158\n",
       "2017-02-04   4525    4525  4525   4525      4525      4525        4525\n",
       "2017-02-05   3933    3933  3933   3933      3933      3933        3933\n",
       "2017-02-06   5482    5482  5482   5482      5482      5482        5482\n",
       "2017-02-07   5165    5165  5165   5165      5165      5165        5165\n",
       "2017-02-08   5211    5211  5211   5211      5211      5211        5211\n",
       "2017-02-09   5196    5196  5196   5196      5196      5196        5196\n",
       "2017-02-10   5819    5819  5819   5819      5819      5819        5819\n",
       "2017-02-11   4410    4410  4410   4410      4410      4410        4410\n",
       "2017-02-12   3688    3688  3688   3688      3688      3688        3688\n",
       "2017-02-13   5006    5006  5006   5006      5006      5006        5006\n",
       "2017-02-14   4843    4843  4843   4843      4843      4843        4843\n",
       "2017-02-15   5627    5627  5627   5627      5627      5627        5627\n",
       "2017-02-16   5619    5619  5619   5619      5619      5619        5619\n",
       "2017-02-17   5552    5552  5552   5552      5552      5552        5552\n",
       "2017-02-18   4402    4402  4402   4402      4402      4402        4402\n",
       "2017-02-19   3724    3724  3724   3724      3724      3724        3724\n",
       "2017-02-20   5364    5364  5364   5364      5364      5364        5364\n",
       "2017-02-21   5164    5164  5164   5164      5164      5164        5164\n",
       "2017-02-22   5282    5282  5282   5282      5282      5282        5282\n",
       "2017-02-23   4784    4784  4784   4784      4784      4784        4784\n",
       "2017-02-24   5017    5017  5017   5017      5017      5017        5017\n",
       "2017-02-25   3839    3839  3839   3839      3839      3839        3839\n",
       "2017-02-26   3370    3370  3370   3370      3370      3370        3370\n",
       "2017-02-27   4294    4294  4294   4294      4294      4294        4294\n",
       "2017-02-28   8718    8718  8718   8718      8718      8718        8718\n",
       "2017-03-01   5857    5857  5857   5857      5857      5857        5857\n",
       "2017-03-02   6242    6242  6242   6242      6242      6242        6242\n",
       "2017-03-03   5956    5956  5956   5956      5956      5956        5956\n",
       "...           ...     ...   ...    ...       ...       ...         ...\n",
       "2017-07-02   5447    5447  5447   5447      5447      5447        5447\n",
       "2017-07-03   8352    8352  8352   8352      8352      8352        8352\n",
       "2017-07-04   7245    7245  7245   7245      7245      7245        7245\n",
       "2017-07-05   6669    6669  6669   6669      6669      6669        6669\n",
       "2017-07-06   7079    7079  7079   7079      7079      7079        7079\n",
       "2017-07-07   7787    7787  7787   7787      7787      7787        7787\n",
       "2017-07-08   6471    6471  6471   6471      6471      6471        6471\n",
       "2017-07-09   5276    5276  5276   5276      5276      5276        5276\n",
       "2017-07-10   7525    7525  7525   7525      7525      7525        7525\n",
       "2017-07-11   6923    6923  6923   6923      6923      6923        6923\n",
       "2017-07-12   6567    6567  6567   6567      6567      6567        6567\n",
       "2017-07-13   6934    6934  6934   6934      6934      6934        6934\n",
       "2017-07-14   8121    8121  8121   8121      8121      8121        8121\n",
       "2017-07-15   6425    6425  6425   6425      6425      6425        6425\n",
       "2017-07-16   5379    5379  5379   5379      5379      5379        5379\n",
       "2017-07-17   7569    7569  7569   7569      7569      7569        7569\n",
       "2017-07-18   5959    5959  5959   5959      5959      5959        5959\n",
       "2017-07-19   7264    7264  7264   7264      7264      7264        7264\n",
       "2017-07-20   6675    6675  6675   6675      6675      6675        6675\n",
       "2017-07-21   7094    7094  7094   7094      7094      7094        7094\n",
       "2017-07-22   5769    5769  5769   5769      5769      5769        5769\n",
       "2017-07-23   4975    4975  4975   4975      4975      4975        4975\n",
       "2017-07-24   7581    7581  7581   7581      7581      7581        7581\n",
       "2017-07-25   6752    6752  6752   6752      6752      6752        6752\n",
       "2017-07-26   6680    6680  6680   6680      6680      6680        6680\n",
       "2017-07-27   6704    6704  6704   6704      6704      6704        6704\n",
       "2017-07-28   8020    8020  8020   8020      8020      8020        8020\n",
       "2017-07-29   6704    6704  6704   6704      6704      6704        6704\n",
       "2017-07-30   5956    5956  5956   5956      5956      5956        5956\n",
       "2017-07-31   9882    9882  9882   9882      9882      9882        9882\n",
       "\n",
       "[180 rows x 7 columns]"
      ]
     },
     "execution_count": 38,
     "metadata": {},
     "output_type": "execute_result"
    }
   ],
   "source": [
    "ventas.groupby(ventas.index.date).count()"
   ]
  },
  {
   "cell_type": "code",
   "execution_count": 39,
   "metadata": {
    "collapsed": true
   },
   "outputs": [],
   "source": [
    "### El dia 02-02-2017 tiene muy pocos datos por lo que lo eliminaremos\n",
    "### por suerte son los primeros 5 datos por lo que un drop simple lo soluciona"
   ]
  },
  {
   "cell_type": "code",
   "execution_count": 40,
   "metadata": {
    "collapsed": true
   },
   "outputs": [],
   "source": [
    "ventas = ventas.drop(ventas.index[0:5])"
   ]
  },
  {
   "cell_type": "code",
   "execution_count": 41,
   "metadata": {
    "collapsed": true
   },
   "outputs": [],
   "source": [
    "# Examinaremos el numero de transacciones por día y le agregaremos una columna con\n",
    "# media móvil de 7 días."
   ]
  },
  {
   "cell_type": "code",
   "execution_count": 42,
   "metadata": {},
   "outputs": [
    {
     "data": {
      "text/html": [
       "<div>\n",
       "<style>\n",
       "    .dataframe thead tr:only-child th {\n",
       "        text-align: right;\n",
       "    }\n",
       "\n",
       "    .dataframe thead th {\n",
       "        text-align: left;\n",
       "    }\n",
       "\n",
       "    .dataframe tbody tr th {\n",
       "        vertical-align: top;\n",
       "    }\n",
       "</style>\n",
       "<table border=\"1\" class=\"dataframe\">\n",
       "  <thead>\n",
       "    <tr style=\"text-align: right;\">\n",
       "      <th></th>\n",
       "      <th>fecha</th>\n",
       "      <th>cantidad</th>\n",
       "      <th>MA</th>\n",
       "    </tr>\n",
       "  </thead>\n",
       "  <tbody>\n",
       "    <tr>\n",
       "      <th>0</th>\n",
       "      <td>2017-02-03</td>\n",
       "      <td>5158</td>\n",
       "      <td>NaN</td>\n",
       "    </tr>\n",
       "    <tr>\n",
       "      <th>1</th>\n",
       "      <td>2017-02-04</td>\n",
       "      <td>4525</td>\n",
       "      <td>NaN</td>\n",
       "    </tr>\n",
       "    <tr>\n",
       "      <th>2</th>\n",
       "      <td>2017-02-05</td>\n",
       "      <td>3933</td>\n",
       "      <td>NaN</td>\n",
       "    </tr>\n",
       "    <tr>\n",
       "      <th>3</th>\n",
       "      <td>2017-02-06</td>\n",
       "      <td>5482</td>\n",
       "      <td>NaN</td>\n",
       "    </tr>\n",
       "    <tr>\n",
       "      <th>4</th>\n",
       "      <td>2017-02-07</td>\n",
       "      <td>5165</td>\n",
       "      <td>NaN</td>\n",
       "    </tr>\n",
       "    <tr>\n",
       "      <th>5</th>\n",
       "      <td>2017-02-08</td>\n",
       "      <td>5211</td>\n",
       "      <td>NaN</td>\n",
       "    </tr>\n",
       "    <tr>\n",
       "      <th>6</th>\n",
       "      <td>2017-02-09</td>\n",
       "      <td>5196</td>\n",
       "      <td>4952.857143</td>\n",
       "    </tr>\n",
       "    <tr>\n",
       "      <th>7</th>\n",
       "      <td>2017-02-10</td>\n",
       "      <td>5819</td>\n",
       "      <td>5047.285714</td>\n",
       "    </tr>\n",
       "    <tr>\n",
       "      <th>8</th>\n",
       "      <td>2017-02-11</td>\n",
       "      <td>4410</td>\n",
       "      <td>5030.857143</td>\n",
       "    </tr>\n",
       "    <tr>\n",
       "      <th>9</th>\n",
       "      <td>2017-02-12</td>\n",
       "      <td>3688</td>\n",
       "      <td>4995.857143</td>\n",
       "    </tr>\n",
       "  </tbody>\n",
       "</table>\n",
       "</div>"
      ],
      "text/plain": [
       "        fecha  cantidad           MA\n",
       "0  2017-02-03      5158          NaN\n",
       "1  2017-02-04      4525          NaN\n",
       "2  2017-02-05      3933          NaN\n",
       "3  2017-02-06      5482          NaN\n",
       "4  2017-02-07      5165          NaN\n",
       "5  2017-02-08      5211          NaN\n",
       "6  2017-02-09      5196  4952.857143\n",
       "7  2017-02-10      5819  5047.285714\n",
       "8  2017-02-11      4410  5030.857143\n",
       "9  2017-02-12      3688  4995.857143"
      ]
     },
     "execution_count": 42,
     "metadata": {},
     "output_type": "execute_result"
    }
   ],
   "source": [
    "trxdia = ventas.estado.groupby([ventas.index.date]).count().reset_index()\n",
    "trxdia.columns = ['fecha', 'cantidad']\n",
    "trxdia['MA'] = trxdia['cantidad'].rolling(7).mean()\n",
    "trxdia.head(10)"
   ]
  },
  {
   "cell_type": "code",
   "execution_count": 43,
   "metadata": {
    "collapsed": true
   },
   "outputs": [],
   "source": [
    "### Graficaremos estas dos variables para ver su comportamiento a través del tiempo"
   ]
  },
  {
   "cell_type": "code",
   "execution_count": 44,
   "metadata": {},
   "outputs": [
    {
     "data": {
      "text/plain": [
       "<matplotlib.legend.Legend at 0x15c616198>"
      ]
     },
     "execution_count": 44,
     "metadata": {},
     "output_type": "execute_result"
    },
    {
     "data": {
      "image/png": "[encoded data removed]",
      "text/plain": [
       "<matplotlib.figure.Figure at 0x10d43a080>"
      ]
     },
     "metadata": {},
     "output_type": "display_data"
    }
   ],
   "source": [
    "plt.figure()\n",
    "\n",
    "x = trxdia['fecha']\n",
    "y1 = trxdia['cantidad']\n",
    "y2 = trxdia['MA']\n",
    "\n",
    "plt.plot(x,y1, label= 'TRX diarias')\n",
    "plt.plot(x,y2, label= 'MA(7)')\n",
    "plt.title(\"Transacciones diarias\")\n",
    "plt.xlabel(\"Mes\")\n",
    "plt.ylabel(\"Trx\")\n",
    "plt.legend()"
   ]
  },
  {
   "cell_type": "code",
   "execution_count": 45,
   "metadata": {
    "collapsed": true
   },
   "outputs": [],
   "source": [
    "### Podemos observar que la serie tiene una tendencia creciente, con peaks marcados\n",
    "### en los fines de mes y con caídas en los fines de semana"
   ]
  },
  {
   "cell_type": "code",
   "execution_count": 46,
   "metadata": {
    "collapsed": true
   },
   "outputs": [],
   "source": [
    "## Ahora visualizaremos la cantidad de transacciones por mes"
   ]
  },
  {
   "cell_type": "code",
   "execution_count": 52,
   "metadata": {},
   "outputs": [
    {
     "data": {
      "text/plain": [
       "<matplotlib.text.Text at 0x15ab2ac88>"
      ]
     },
     "execution_count": 52,
     "metadata": {},
     "output_type": "execute_result"
    },
    {
     "data": {
      "image/png": "[encoded data removed]",
      "text/plain": [
       "<matplotlib.figure.Figure at 0x15c452e10>"
      ]
     },
     "metadata": {},
     "output_type": "display_data"
    }
   ],
   "source": [
    "ventas.monto.groupby([ventas.index.month]).count().plot(kind=\"bar\") \n",
    "plt.xlabel(\"Mes\")\n",
    "plt.ylabel(\"Trx\")"
   ]
  },
  {
   "cell_type": "code",
   "execution_count": 48,
   "metadata": {
    "collapsed": true
   },
   "outputs": [],
   "source": [
    "## Nos interesa conocer la frecuencia de las recargas por cada suscriptor (número o rut)\n",
    "## por lo que debemos crear esta variable contando las veces que aparece"
   ]
  },
  {
   "cell_type": "code",
   "execution_count": 49,
   "metadata": {},
   "outputs": [
    {
     "data": {
      "text/html": [
       "<div>\n",
       "<style>\n",
       "    .dataframe thead tr:only-child th {\n",
       "        text-align: right;\n",
       "    }\n",
       "\n",
       "    .dataframe thead th {\n",
       "        text-align: left;\n",
       "    }\n",
       "\n",
       "    .dataframe tbody tr th {\n",
       "        vertical-align: top;\n",
       "    }\n",
       "</style>\n",
       "<table border=\"1\" class=\"dataframe\">\n",
       "  <thead>\n",
       "    <tr style=\"text-align: right;\">\n",
       "      <th></th>\n",
       "      <th>suscriptor</th>\n",
       "      <th>recargas</th>\n",
       "    </tr>\n",
       "  </thead>\n",
       "  <tbody>\n",
       "    <tr>\n",
       "      <th>0</th>\n",
       "      <td>961510570</td>\n",
       "      <td>129</td>\n",
       "    </tr>\n",
       "    <tr>\n",
       "      <th>1</th>\n",
       "      <td>966078262</td>\n",
       "      <td>116</td>\n",
       "    </tr>\n",
       "    <tr>\n",
       "      <th>2</th>\n",
       "      <td>983868855</td>\n",
       "      <td>114</td>\n",
       "    </tr>\n",
       "    <tr>\n",
       "      <th>3</th>\n",
       "      <td>972011224</td>\n",
       "      <td>114</td>\n",
       "    </tr>\n",
       "    <tr>\n",
       "      <th>4</th>\n",
       "      <td>986974089</td>\n",
       "      <td>99</td>\n",
       "    </tr>\n",
       "    <tr>\n",
       "      <th>5</th>\n",
       "      <td>953397585</td>\n",
       "      <td>97</td>\n",
       "    </tr>\n",
       "    <tr>\n",
       "      <th>6</th>\n",
       "      <td>966399020</td>\n",
       "      <td>96</td>\n",
       "    </tr>\n",
       "    <tr>\n",
       "      <th>7</th>\n",
       "      <td>994519967</td>\n",
       "      <td>95</td>\n",
       "    </tr>\n",
       "    <tr>\n",
       "      <th>8</th>\n",
       "      <td>961334928</td>\n",
       "      <td>93</td>\n",
       "    </tr>\n",
       "    <tr>\n",
       "      <th>9</th>\n",
       "      <td>984052398</td>\n",
       "      <td>87</td>\n",
       "    </tr>\n",
       "  </tbody>\n",
       "</table>\n",
       "</div>"
      ],
      "text/plain": [
       "  suscriptor  recargas\n",
       "0  961510570       129\n",
       "1  966078262       116\n",
       "2  983868855       114\n",
       "3  972011224       114\n",
       "4  986974089        99\n",
       "5  953397585        97\n",
       "6  966399020        96\n",
       "7  994519967        95\n",
       "8  961334928        93\n",
       "9  984052398        87"
      ]
     },
     "execution_count": 49,
     "metadata": {},
     "output_type": "execute_result"
    }
   ],
   "source": [
    "freq = pd.DataFrame(ventas.suscriptor.value_counts().reset_index())\n",
    "freq.columns = ['suscriptor', 'recargas']\n",
    "freq.head(10)"
   ]
  },
  {
   "cell_type": "code",
   "execution_count": 50,
   "metadata": {
    "collapsed": true
   },
   "outputs": [],
   "source": [
    "## Veremos la estadistica descriptiva de esta variable, con el fin de analizar como \n",
    "## trabajar con ella."
   ]
  },
  {
   "cell_type": "code",
   "execution_count": 51,
   "metadata": {},
   "outputs": [
    {
     "data": {
      "text/html": [
       "<div>\n",
       "<style>\n",
       "    .dataframe thead tr:only-child th {\n",
       "        text-align: right;\n",
       "    }\n",
       "\n",
       "    .dataframe thead th {\n",
       "        text-align: left;\n",
       "    }\n",
       "\n",
       "    .dataframe tbody tr th {\n",
       "        vertical-align: top;\n",
       "    }\n",
       "</style>\n",
       "<table border=\"1\" class=\"dataframe\">\n",
       "  <thead>\n",
       "    <tr style=\"text-align: right;\">\n",
       "      <th></th>\n",
       "      <th>recargas</th>\n",
       "    </tr>\n",
       "  </thead>\n",
       "  <tbody>\n",
       "    <tr>\n",
       "      <th>count</th>\n",
       "      <td>452640.000000</td>\n",
       "    </tr>\n",
       "    <tr>\n",
       "      <th>mean</th>\n",
       "      <td>2.386232</td>\n",
       "    </tr>\n",
       "    <tr>\n",
       "      <th>std</th>\n",
       "      <td>3.034576</td>\n",
       "    </tr>\n",
       "    <tr>\n",
       "      <th>min</th>\n",
       "      <td>1.000000</td>\n",
       "    </tr>\n",
       "    <tr>\n",
       "      <th>10%</th>\n",
       "      <td>1.000000</td>\n",
       "    </tr>\n",
       "    <tr>\n",
       "      <th>20%</th>\n",
       "      <td>1.000000</td>\n",
       "    </tr>\n",
       "    <tr>\n",
       "      <th>30%</th>\n",
       "      <td>1.000000</td>\n",
       "    </tr>\n",
       "    <tr>\n",
       "      <th>40%</th>\n",
       "      <td>1.000000</td>\n",
       "    </tr>\n",
       "    <tr>\n",
       "      <th>50%</th>\n",
       "      <td>1.000000</td>\n",
       "    </tr>\n",
       "    <tr>\n",
       "      <th>60%</th>\n",
       "      <td>2.000000</td>\n",
       "    </tr>\n",
       "    <tr>\n",
       "      <th>70%</th>\n",
       "      <td>2.000000</td>\n",
       "    </tr>\n",
       "    <tr>\n",
       "      <th>80%</th>\n",
       "      <td>3.000000</td>\n",
       "    </tr>\n",
       "    <tr>\n",
       "      <th>90%</th>\n",
       "      <td>5.000000</td>\n",
       "    </tr>\n",
       "    <tr>\n",
       "      <th>max</th>\n",
       "      <td>129.000000</td>\n",
       "    </tr>\n",
       "  </tbody>\n",
       "</table>\n",
       "</div>"
      ],
      "text/plain": [
       "            recargas\n",
       "count  452640.000000\n",
       "mean        2.386232\n",
       "std         3.034576\n",
       "min         1.000000\n",
       "10%         1.000000\n",
       "20%         1.000000\n",
       "30%         1.000000\n",
       "40%         1.000000\n",
       "50%         1.000000\n",
       "60%         2.000000\n",
       "70%         2.000000\n",
       "80%         3.000000\n",
       "90%         5.000000\n",
       "max       129.000000"
      ]
     },
     "execution_count": 51,
     "metadata": {},
     "output_type": "execute_result"
    }
   ],
   "source": [
    "freq.describe(percentiles = [.1, .2 ,.3 ,.4, .5, .6, .7, .8 ,.9])"
   ]
  }
 ],
 "metadata": {
  "kernelspec": {
   "display_name": "Python 3",
   "language": "python",
   "name": "python3"
  },
  "language_info": {
   "codemirror_mode": {
    "name": "ipython",
    "version": 3
   },
   "file_extension": ".py",
   "mimetype": "text/x-python",
   "name": "python",
   "nbconvert_exporter": "python",
   "pygments_lexer": "ipython3",
   "version": "3.6.1"
  }
 },
 "nbformat": 4,
 "nbformat_minor": 2
}
